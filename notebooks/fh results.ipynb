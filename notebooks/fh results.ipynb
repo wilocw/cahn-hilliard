{
 "cells": [
  {
   "cell_type": "code",
   "execution_count": 1,
   "metadata": {},
   "outputs": [],
   "source": [
    "import numpy as np\n",
    "import torch\n",
    "import pickle\n",
    "import os\n",
    "\n",
    "%matplotlib inline\n",
    "from matplotlib import pyplot as plt"
   ]
  },
  {
   "cell_type": "code",
   "execution_count": 2,
   "metadata": {},
   "outputs": [
    {
     "name": "stdout",
     "output_type": "stream",
     "text": [
      " Volume in drive C is Windows\n",
      " Volume Serial Number is 4852-A521\n",
      "\n",
      " Directory of C:\\Users\\Wil_User\\Documents\\git\\cahn-hilliard\\notebooks\n",
      "\n",
      "27/04/2020  13:17    <DIR>          .\n",
      "27/04/2020  13:17    <DIR>          ..\n",
      "27/04/2020  13:03    <DIR>          .ipynb_checkpoints\n",
      "06/03/2020  12:38           219,916 bayesopt example.ipynb\n",
      "06/03/2020  12:38           406,741 bayesopt with grad example.ipynb\n",
      "15/11/2019  17:24           482,087 cahn-hilliard_joint_estimation.ipynb\n",
      "18/10/2019  16:21           402,573 cahn-hilliard_param_estimation.ipynb\n",
      "18/10/2019  09:56            88,640 cahn-hilliard_pytorch.ipynb\n",
      "11/10/2019  13:51           853,877 cahn-hilliard_scoring.ipynb\n",
      "27/04/2020  13:17             2,919 fh results.ipynb\n",
      "21/04/2020  11:26         2,576,937 fh_bounds.ipynb\n",
      "18/03/2020  13:20            83,647 results.ipynb\n",
      "13/02/2020  13:48           239,127 Untitled.ipynb\n",
      "10/02/2020  23:50           179,330 Untitled1.ipynb\n",
      "              11 File(s)      5,535,794 bytes\n",
      "               3 Dir(s)  341,407,588,352 bytes free\n"
     ]
    }
   ],
   "source": [
    "!dir"
   ]
  },
  {
   "cell_type": "code",
   "execution_count": 15,
   "metadata": {},
   "outputs": [],
   "source": [
    "fdir = os.path.join('..','script','.tmp')\n",
    "\n",
    "with open(os.path.join(fdir, 'simulation_773.p'), 'rb') as fid:\n",
    "    data = pickle.load(fid)"
   ]
  },
  {
   "cell_type": "code",
   "execution_count": 16,
   "metadata": {},
   "outputs": [
    {
     "data": {
      "text/plain": [
       "{'N': array(127777.78, dtype=float32),\n",
       " 'chi': array(2.7e-05, dtype=float32),\n",
       " 'k': array(0.6977646, dtype=float32)}"
      ]
     },
     "execution_count": 16,
     "metadata": {},
     "output_type": "execute_result"
    }
   ],
   "source": [
    "data[0]"
   ]
  },
  {
   "cell_type": "code",
   "execution_count": 17,
   "metadata": {},
   "outputs": [
    {
     "data": {
      "text/plain": [
       "{'t': array([  99.,  999., 1899., 2799., 3699., 4599., 5499., 6399., 7299.,\n",
       "        8199., 9099., 9999.], dtype=float32),\n",
       " 'q': array([1.03599905e-05, 1.86686138e-05, 2.62380345e-05, 3.34783072e-05,\n",
       "        4.19785720e-05, 4.98608097e-05, 5.76813618e-05, 6.58918725e-05,\n",
       "        7.37335868e-05, 8.14795640e-05, 8.90404408e-05, 9.67516753e-05,\n",
       "        1.05079394e-04, 1.13135138e-04, 1.20754667e-04, 1.28381318e-04,\n",
       "        1.36233735e-04, 1.44454723e-04, 1.52366381e-04, 1.59952659e-04,\n",
       "        1.68096332e-04, 1.75901194e-04, 1.83465396e-04, 1.91139494e-04,\n",
       "        1.99182032e-04, 2.07471065e-04, 2.15239459e-04, 2.22718780e-04,\n",
       "        2.30542151e-04, 2.38410474e-04, 2.46478914e-04, 2.54374783e-04,\n",
       "        2.62187008e-04, 2.70153425e-04, 2.77906162e-04, 2.85612536e-04,\n",
       "        2.93346966e-04, 3.01402761e-04, 3.09382885e-04, 3.16949969e-04,\n",
       "        3.24765220e-04, 3.32718162e-04, 3.40767787e-04, 3.48715344e-04,\n",
       "        3.56365170e-04, 3.64077860e-04, 3.71884526e-04, 3.79779289e-04,\n",
       "        3.87610315e-04, 3.95687646e-04, 4.03673097e-04, 4.11331654e-04,\n",
       "        4.19078860e-04, 4.26793180e-04, 4.34826215e-04, 4.42758668e-04,\n",
       "        4.50540072e-04, 4.58289636e-04, 4.66072204e-04, 4.74000990e-04,\n",
       "        4.81951836e-04, 4.89865430e-04, 4.97663394e-04, 5.05360658e-04,\n",
       "        5.13262872e-04, 5.21100359e-04, 5.28860197e-04, 5.36844018e-04,\n",
       "        5.44716138e-04, 5.52417128e-04, 5.60114509e-04, 5.68069168e-04,\n",
       "        5.76065911e-04, 5.83948800e-04, 5.91740245e-04, 5.99612831e-04,\n",
       "        6.07531692e-04, 6.15271623e-04, 6.23024767e-04, 6.30933035e-04,\n",
       "        6.38784433e-04, 6.46681641e-04, 6.54478965e-04, 6.62274484e-04,\n",
       "        6.70192007e-04, 6.78146607e-04, 6.85985142e-04, 6.93617971e-04,\n",
       "        7.01552606e-04, 7.09488231e-04, 7.17275194e-04, 7.25094869e-04,\n",
       "        7.32927758e-04, 7.40830612e-04, 7.48622697e-04, 7.56339519e-04,\n",
       "        7.64262106e-04, 7.72166124e-04, 7.80041795e-04, 7.87856756e-04,\n",
       "        7.95762870e-04, 8.03717005e-04, 8.11434409e-04, 8.19202629e-04,\n",
       "        8.27041862e-04, 8.34936742e-04, 8.42888025e-04, 8.50646058e-04,\n",
       "        8.58343323e-04, 8.66165094e-04, 8.74064863e-04, 8.81968881e-04,\n",
       "        8.89807125e-04, 8.97757127e-04, 9.05720401e-04, 9.13413358e-04,\n",
       "        9.21190425e-04, 9.29076923e-04, 9.36950091e-04, 9.44828964e-04,\n",
       "        9.52466449e-04, 9.60238627e-04, 9.68329550e-04, 9.76223499e-04,\n",
       "        9.84055921e-04, 9.91765992e-04, 9.99544747e-04, 1.00724574e-03,\n",
       "        1.01531565e-03, 1.02320279e-03, 1.03104010e-03, 1.03900058e-03,\n",
       "        1.04699924e-03, 1.05458184e-03, 1.06240343e-03, 1.07033434e-03,\n",
       "        1.07822975e-03, 1.08608324e-03, 1.09378935e-03, 1.10168569e-03,\n",
       "        1.10962195e-03, 1.11735065e-03, 1.12521928e-03, 1.13297463e-03,\n",
       "        1.14092452e-03, 1.14885846e-03, 1.15666178e-03, 1.16447650e-03,\n",
       "        1.17229624e-03, 1.18018920e-03, 1.18799729e-03, 1.19572808e-03,\n",
       "        1.20360276e-03, 1.21155160e-03, 1.21943210e-03, 1.22721633e-03,\n",
       "        1.23491429e-03, 1.24262448e-03, 1.25072955e-03, 1.25863578e-03,\n",
       "        1.26654026e-03, 1.27441471e-03, 1.28173188e-03, 1.28972158e-03,\n",
       "        1.29790592e-03, 1.30577979e-03, 1.31367159e-03, 1.32046896e-03,\n",
       "        1.32899312e-03, 1.33686187e-03, 1.34490849e-03, 1.35247153e-03,\n",
       "        1.36065960e-03, 1.36790145e-03, 1.37528602e-03, 1.38323219e-03,\n",
       "        1.39156939e-03, 1.39920972e-03, 1.40729768e-03, 1.41144625e-03,\n",
       "        1.41421368e-03], dtype=float32),\n",
       " 'Ss': array([[[ 12.78966  ,  12.210116 ,  15.115489 , ...,  15.4715   ,\n",
       "           14.233004 ,  17.107388 ]],\n",
       " \n",
       "        [[ 10.654988 ,  12.022426 ,  21.773424 , ...,  45.004864 ,\n",
       "           30.294977 ,   6.027405 ]],\n",
       " \n",
       "        [[ 24.280313 ,  18.701828 ,  27.997913 , ...,  54.079376 ,\n",
       "           26.65333  ,   0.5433693]],\n",
       " \n",
       "        ...,\n",
       " \n",
       "        [[ 98.77455  ,  60.787373 ,  63.713493 , ...,  48.721237 ,\n",
       "           27.15498  ,   4.446102 ]],\n",
       " \n",
       "        [[108.32183  ,  65.902214 ,  66.49008  , ...,  48.53523  ,\n",
       "           28.080278 ,   5.5862045]],\n",
       " \n",
       "        [[117.24641  ,  70.587456 ,  70.25777  , ...,  48.79657  ,\n",
       "           27.730503 ,   7.294327 ]]], dtype=float32)}"
      ]
     },
     "execution_count": 17,
     "metadata": {},
     "output_type": "execute_result"
    }
   ],
   "source": [
    "data[1]"
   ]
  },
  {
   "cell_type": "code",
   "execution_count": 18,
   "metadata": {},
   "outputs": [],
   "source": [
    "t,q,Ss = data[1]['t'],data[1]['q'],data[1]['Ss']"
   ]
  },
  {
   "cell_type": "code",
   "execution_count": 19,
   "metadata": {},
   "outputs": [
    {
     "data": {
      "text/plain": [
       "(181,)"
      ]
     },
     "execution_count": 19,
     "metadata": {},
     "output_type": "execute_result"
    }
   ],
   "source": [
    "q.shape"
   ]
  },
  {
   "cell_type": "code",
   "execution_count": 20,
   "metadata": {},
   "outputs": [
    {
     "data": {
      "image/png": "[encoded data removed]",
      "text/plain": [
       "<Figure size 432x288 with 1 Axes>"
      ]
     },
     "metadata": {
      "needs_background": "light"
     },
     "output_type": "display_data"
    }
   ],
   "source": [
    "for i in range(12):\n",
    "    plt.plot(q, Ss[i,0,:], '-', alpha=0.5, lw=2)\n",
    "plt.yscale('log')"
   ]
  },
  {
   "cell_type": "code",
   "execution_count": null,
   "metadata": {},
   "outputs": [],
   "source": []
  }
 ],
 "metadata": {
  "kernelspec": {
   "display_name": "Python 3",
   "language": "python",
   "name": "python3"
  },
  "language_info": {
   "codemirror_mode": {
    "name": "ipython",
    "version": 3
   },
   "file_extension": ".py",
   "mimetype": "text/x-python",
   "name": "python",
   "nbconvert_exporter": "python",
   "pygments_lexer": "ipython3",
   "version": "3.6.9"
  }
 },
 "nbformat": 4,
 "nbformat_minor": 4
}
